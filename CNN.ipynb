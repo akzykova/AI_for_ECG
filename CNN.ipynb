{
  "nbformat": 4,
  "nbformat_minor": 0,
  "metadata": {
    "colab": {
      "provenance": []
    },
    "kernelspec": {
      "name": "python3",
      "display_name": "Python 3"
    },
    "language_info": {
      "name": "python"
    }
  },
  "cells": [
    {
      "cell_type": "code",
      "execution_count": 1,
      "metadata": {
        "colab": {
          "base_uri": "https://localhost:8080/"
        },
        "id": "1wEdAJBV9c7_",
        "outputId": "483db7a1-a892-4904-ddb8-91e95ab8e490"
      },
      "outputs": [
        {
          "output_type": "stream",
          "name": "stdout",
          "text": [
            "Collecting wfdb\n",
            "  Downloading wfdb-4.1.2-py3-none-any.whl (159 kB)\n",
            "\u001b[2K     \u001b[90m━━━━━━━━━━━━━━━━━━━━━━━━━━━━━━━━━━━━━━━━\u001b[0m \u001b[32m160.0/160.0 kB\u001b[0m \u001b[31m2.4 MB/s\u001b[0m eta \u001b[36m0:00:00\u001b[0m\n",
            "\u001b[?25hRequirement already satisfied: SoundFile>=0.10.0 in /usr/local/lib/python3.10/dist-packages (from wfdb) (0.12.1)\n",
            "Requirement already satisfied: matplotlib>=3.2.2 in /usr/local/lib/python3.10/dist-packages (from wfdb) (3.7.1)\n",
            "Requirement already satisfied: numpy>=1.10.1 in /usr/local/lib/python3.10/dist-packages (from wfdb) (1.25.2)\n",
            "Requirement already satisfied: pandas>=1.3.0 in /usr/local/lib/python3.10/dist-packages (from wfdb) (2.0.3)\n",
            "Requirement already satisfied: requests>=2.8.1 in /usr/local/lib/python3.10/dist-packages (from wfdb) (2.31.0)\n",
            "Requirement already satisfied: scipy>=1.0.0 in /usr/local/lib/python3.10/dist-packages (from wfdb) (1.11.4)\n",
            "Requirement already satisfied: contourpy>=1.0.1 in /usr/local/lib/python3.10/dist-packages (from matplotlib>=3.2.2->wfdb) (1.2.1)\n",
            "Requirement already satisfied: cycler>=0.10 in /usr/local/lib/python3.10/dist-packages (from matplotlib>=3.2.2->wfdb) (0.12.1)\n",
            "Requirement already satisfied: fonttools>=4.22.0 in /usr/local/lib/python3.10/dist-packages (from matplotlib>=3.2.2->wfdb) (4.51.0)\n",
            "Requirement already satisfied: kiwisolver>=1.0.1 in /usr/local/lib/python3.10/dist-packages (from matplotlib>=3.2.2->wfdb) (1.4.5)\n",
            "Requirement already satisfied: packaging>=20.0 in /usr/local/lib/python3.10/dist-packages (from matplotlib>=3.2.2->wfdb) (24.0)\n",
            "Requirement already satisfied: pillow>=6.2.0 in /usr/local/lib/python3.10/dist-packages (from matplotlib>=3.2.2->wfdb) (9.4.0)\n",
            "Requirement already satisfied: pyparsing>=2.3.1 in /usr/local/lib/python3.10/dist-packages (from matplotlib>=3.2.2->wfdb) (3.1.2)\n",
            "Requirement already satisfied: python-dateutil>=2.7 in /usr/local/lib/python3.10/dist-packages (from matplotlib>=3.2.2->wfdb) (2.8.2)\n",
            "Requirement already satisfied: pytz>=2020.1 in /usr/local/lib/python3.10/dist-packages (from pandas>=1.3.0->wfdb) (2023.4)\n",
            "Requirement already satisfied: tzdata>=2022.1 in /usr/local/lib/python3.10/dist-packages (from pandas>=1.3.0->wfdb) (2024.1)\n",
            "Requirement already satisfied: charset-normalizer<4,>=2 in /usr/local/lib/python3.10/dist-packages (from requests>=2.8.1->wfdb) (3.3.2)\n",
            "Requirement already satisfied: idna<4,>=2.5 in /usr/local/lib/python3.10/dist-packages (from requests>=2.8.1->wfdb) (3.7)\n",
            "Requirement already satisfied: urllib3<3,>=1.21.1 in /usr/local/lib/python3.10/dist-packages (from requests>=2.8.1->wfdb) (2.0.7)\n",
            "Requirement already satisfied: certifi>=2017.4.17 in /usr/local/lib/python3.10/dist-packages (from requests>=2.8.1->wfdb) (2024.2.2)\n",
            "Requirement already satisfied: cffi>=1.0 in /usr/local/lib/python3.10/dist-packages (from SoundFile>=0.10.0->wfdb) (1.16.0)\n",
            "Requirement already satisfied: pycparser in /usr/local/lib/python3.10/dist-packages (from cffi>=1.0->SoundFile>=0.10.0->wfdb) (2.22)\n",
            "Requirement already satisfied: six>=1.5 in /usr/local/lib/python3.10/dist-packages (from python-dateutil>=2.7->matplotlib>=3.2.2->wfdb) (1.16.0)\n",
            "Installing collected packages: wfdb\n",
            "Successfully installed wfdb-4.1.2\n",
            "Collecting neurokit2\n",
            "  Downloading neurokit2-0.2.7-py2.py3-none-any.whl (1.3 MB)\n",
            "\u001b[2K     \u001b[90m━━━━━━━━━━━━━━━━━━━━━━━━━━━━━━━━━━━━━━━━\u001b[0m \u001b[32m1.3/1.3 MB\u001b[0m \u001b[31m14.0 MB/s\u001b[0m eta \u001b[36m0:00:00\u001b[0m\n",
            "\u001b[?25hRequirement already satisfied: numpy in /usr/local/lib/python3.10/dist-packages (from neurokit2) (1.25.2)\n",
            "Requirement already satisfied: pandas in /usr/local/lib/python3.10/dist-packages (from neurokit2) (2.0.3)\n",
            "Requirement already satisfied: scipy in /usr/local/lib/python3.10/dist-packages (from neurokit2) (1.11.4)\n",
            "Requirement already satisfied: scikit-learn>=1.0.0 in /usr/local/lib/python3.10/dist-packages (from neurokit2) (1.2.2)\n",
            "Requirement already satisfied: matplotlib in /usr/local/lib/python3.10/dist-packages (from neurokit2) (3.7.1)\n",
            "Requirement already satisfied: joblib>=1.1.1 in /usr/local/lib/python3.10/dist-packages (from scikit-learn>=1.0.0->neurokit2) (1.4.0)\n",
            "Requirement already satisfied: threadpoolctl>=2.0.0 in /usr/local/lib/python3.10/dist-packages (from scikit-learn>=1.0.0->neurokit2) (3.4.0)\n",
            "Requirement already satisfied: contourpy>=1.0.1 in /usr/local/lib/python3.10/dist-packages (from matplotlib->neurokit2) (1.2.1)\n",
            "Requirement already satisfied: cycler>=0.10 in /usr/local/lib/python3.10/dist-packages (from matplotlib->neurokit2) (0.12.1)\n",
            "Requirement already satisfied: fonttools>=4.22.0 in /usr/local/lib/python3.10/dist-packages (from matplotlib->neurokit2) (4.51.0)\n",
            "Requirement already satisfied: kiwisolver>=1.0.1 in /usr/local/lib/python3.10/dist-packages (from matplotlib->neurokit2) (1.4.5)\n",
            "Requirement already satisfied: packaging>=20.0 in /usr/local/lib/python3.10/dist-packages (from matplotlib->neurokit2) (24.0)\n",
            "Requirement already satisfied: pillow>=6.2.0 in /usr/local/lib/python3.10/dist-packages (from matplotlib->neurokit2) (9.4.0)\n",
            "Requirement already satisfied: pyparsing>=2.3.1 in /usr/local/lib/python3.10/dist-packages (from matplotlib->neurokit2) (3.1.2)\n",
            "Requirement already satisfied: python-dateutil>=2.7 in /usr/local/lib/python3.10/dist-packages (from matplotlib->neurokit2) (2.8.2)\n",
            "Requirement already satisfied: pytz>=2020.1 in /usr/local/lib/python3.10/dist-packages (from pandas->neurokit2) (2023.4)\n",
            "Requirement already satisfied: tzdata>=2022.1 in /usr/local/lib/python3.10/dist-packages (from pandas->neurokit2) (2024.1)\n",
            "Requirement already satisfied: six>=1.5 in /usr/local/lib/python3.10/dist-packages (from python-dateutil>=2.7->matplotlib->neurokit2) (1.16.0)\n",
            "Installing collected packages: neurokit2\n",
            "Successfully installed neurokit2-0.2.7\n",
            "Collecting mne\n",
            "  Downloading mne-1.7.0-py3-none-any.whl (7.4 MB)\n",
            "\u001b[2K     \u001b[90m━━━━━━━━━━━━━━━━━━━━━━━━━━━━━━━━━━━━━━━━\u001b[0m \u001b[32m7.4/7.4 MB\u001b[0m \u001b[31m21.6 MB/s\u001b[0m eta \u001b[36m0:00:00\u001b[0m\n",
            "\u001b[?25hRequirement already satisfied: decorator in /usr/local/lib/python3.10/dist-packages (from mne) (4.4.2)\n",
            "Requirement already satisfied: jinja2 in /usr/local/lib/python3.10/dist-packages (from mne) (3.1.3)\n",
            "Requirement already satisfied: lazy-loader>=0.3 in /usr/local/lib/python3.10/dist-packages (from mne) (0.4)\n",
            "Requirement already satisfied: matplotlib>=3.5.0 in /usr/local/lib/python3.10/dist-packages (from mne) (3.7.1)\n",
            "Requirement already satisfied: numpy>=1.21.2 in /usr/local/lib/python3.10/dist-packages (from mne) (1.25.2)\n",
            "Requirement already satisfied: packaging in /usr/local/lib/python3.10/dist-packages (from mne) (24.0)\n",
            "Requirement already satisfied: pooch>=1.5 in /usr/local/lib/python3.10/dist-packages (from mne) (1.8.1)\n",
            "Requirement already satisfied: scipy>=1.7.1 in /usr/local/lib/python3.10/dist-packages (from mne) (1.11.4)\n",
            "Requirement already satisfied: tqdm in /usr/local/lib/python3.10/dist-packages (from mne) (4.66.2)\n",
            "Requirement already satisfied: contourpy>=1.0.1 in /usr/local/lib/python3.10/dist-packages (from matplotlib>=3.5.0->mne) (1.2.1)\n",
            "Requirement already satisfied: cycler>=0.10 in /usr/local/lib/python3.10/dist-packages (from matplotlib>=3.5.0->mne) (0.12.1)\n",
            "Requirement already satisfied: fonttools>=4.22.0 in /usr/local/lib/python3.10/dist-packages (from matplotlib>=3.5.0->mne) (4.51.0)\n",
            "Requirement already satisfied: kiwisolver>=1.0.1 in /usr/local/lib/python3.10/dist-packages (from matplotlib>=3.5.0->mne) (1.4.5)\n",
            "Requirement already satisfied: pillow>=6.2.0 in /usr/local/lib/python3.10/dist-packages (from matplotlib>=3.5.0->mne) (9.4.0)\n",
            "Requirement already satisfied: pyparsing>=2.3.1 in /usr/local/lib/python3.10/dist-packages (from matplotlib>=3.5.0->mne) (3.1.2)\n",
            "Requirement already satisfied: python-dateutil>=2.7 in /usr/local/lib/python3.10/dist-packages (from matplotlib>=3.5.0->mne) (2.8.2)\n",
            "Requirement already satisfied: platformdirs>=2.5.0 in /usr/local/lib/python3.10/dist-packages (from pooch>=1.5->mne) (4.2.0)\n",
            "Requirement already satisfied: requests>=2.19.0 in /usr/local/lib/python3.10/dist-packages (from pooch>=1.5->mne) (2.31.0)\n",
            "Requirement already satisfied: MarkupSafe>=2.0 in /usr/local/lib/python3.10/dist-packages (from jinja2->mne) (2.1.5)\n",
            "Requirement already satisfied: six>=1.5 in /usr/local/lib/python3.10/dist-packages (from python-dateutil>=2.7->matplotlib>=3.5.0->mne) (1.16.0)\n",
            "Requirement already satisfied: charset-normalizer<4,>=2 in /usr/local/lib/python3.10/dist-packages (from requests>=2.19.0->pooch>=1.5->mne) (3.3.2)\n",
            "Requirement already satisfied: idna<4,>=2.5 in /usr/local/lib/python3.10/dist-packages (from requests>=2.19.0->pooch>=1.5->mne) (3.7)\n",
            "Requirement already satisfied: urllib3<3,>=1.21.1 in /usr/local/lib/python3.10/dist-packages (from requests>=2.19.0->pooch>=1.5->mne) (2.0.7)\n",
            "Requirement already satisfied: certifi>=2017.4.17 in /usr/local/lib/python3.10/dist-packages (from requests>=2.19.0->pooch>=1.5->mne) (2024.2.2)\n",
            "Installing collected packages: mne\n",
            "Successfully installed mne-1.7.0\n"
          ]
        }
      ],
      "source": [
        "!pip install wfdb\n",
        "!pip install neurokit2\n",
        "!pip install mne"
      ]
    },
    {
      "cell_type": "code",
      "source": [
        "from google.colab import drive\n",
        "drive.mount('/content/drive')"
      ],
      "metadata": {
        "colab": {
          "base_uri": "https://localhost:8080/"
        },
        "id": "0qH2DCQl9zKz",
        "outputId": "33264a96-d82a-417f-c810-1de638a5ee6c"
      },
      "execution_count": 2,
      "outputs": [
        {
          "output_type": "stream",
          "name": "stdout",
          "text": [
            "Mounted at /content/drive\n"
          ]
        }
      ]
    },
    {
      "cell_type": "code",
      "source": [
        "import wfdb\n",
        "import mne\n",
        "import neurokit2 as nk\n",
        "import pandas as pd\n",
        "import numpy as np\n",
        "import matplotlib.pyplot as plt\n",
        "import scipy.stats\n",
        "import tensorflow as tf\n",
        "import os\n",
        "from sklearn.model_selection import train_test_split\n",
        "from tensorflow.keras.models import Model\n",
        "from tensorflow.keras.layers import Input, Conv1D, MaxPooling1D, UpSampling1D"
      ],
      "metadata": {
        "id": "-nQo5DUg91Ub"
      },
      "execution_count": 3,
      "outputs": []
    },
    {
      "cell_type": "code",
      "source": [
        "NORMAL_PATHS = []\n",
        "ANOMALY_PATHS = []\n",
        "\n",
        "record_annotations = '/content/drive/MyDrive/ECG_data/records.txt'\n",
        "with open(record_annotations, 'r') as file:\n",
        "  records = file.readlines()\n",
        "  for record in records:\n",
        "    NORMAL_PATHS.append('/content/drive/MyDrive/ECG_full_normal/a_' + record.strip() + '.csv')\n",
        "    ANOMALY_PATHS.append('/content/drive/MyDrive/ECG_full_anomaly/a_' + record.strip() + '.csv')\n"
      ],
      "metadata": {
        "id": "_2dRU52C92zj"
      },
      "execution_count": 4,
      "outputs": []
    },
    {
      "cell_type": "code",
      "source": [
        "NORMAL_PATHS = NORMAL_PATHS[:25]\n",
        "ANOMALY_PATHS = ANOMALY_PATHS[:25]\n",
        "X_normal = []\n",
        "for file_path in NORMAL_PATHS:\n",
        "  if os.path.exists(file_path) and file_path.lower().endswith(\".csv\"):\n",
        "        try:\n",
        "            df = pd.read_csv(file_path)\n",
        "            X_normal.extend(df.values.tolist()[:10000])\n",
        "        except pd.errors.EmptyDataError:\n",
        "            continue\n",
        "\n",
        "\n",
        "X_anomaly = []\n",
        "for file_path in ANOMALY_PATHS:\n",
        "  if os.path.exists(file_path) and file_path.lower().endswith(\".csv\"):\n",
        "        try:\n",
        "            df = pd.read_csv(file_path)\n",
        "            X_anomaly.extend(df.values.tolist()[:10000])\n",
        "        except pd.errors.EmptyDataError:\n",
        "            continue\n"
      ],
      "metadata": {
        "id": "kFwO0doi94sI"
      },
      "execution_count": 7,
      "outputs": []
    },
    {
      "cell_type": "code",
      "source": [
        "# Подготовка данных для обучения\n",
        "X = np.concatenate((X_normal, X_anomaly), axis = 0)\n",
        "y = np.concatenate((np.zeros(len(X_normal)), np.ones(len(X_anomaly))), axis = 0)\n",
        "\n",
        "def min_max_scaler(data):\n",
        "    min_val = np.min(data)\n",
        "    max_val = np.max(data)\n",
        "    scaled_data = (data - min_val) / (max_val - min_val)\n",
        "    return scaled_data\n",
        "\n",
        "X_n = []\n",
        "for x in X:\n",
        "  X_n.append(min_max_scaler(x)[:80])\n",
        "\n",
        "X_n = np.array(X_n)\n",
        "\n",
        "X_train, X_test, y_train, y_test = train_test_split(X_n, y, test_size=0.2, random_state=42)\n",
        "\n",
        "\n",
        "print(X_train.shape)\n",
        "print(y_train.shape)"
      ],
      "metadata": {
        "colab": {
          "base_uri": "https://localhost:8080/"
        },
        "id": "Votg30Er97DQ",
        "outputId": "36900106-ae64-4216-afa2-e2a19e79d280"
      },
      "execution_count": 10,
      "outputs": [
        {
          "output_type": "stream",
          "name": "stdout",
          "text": [
            "(237278, 80)\n",
            "(237278,)\n"
          ]
        }
      ]
    },
    {
      "cell_type": "code",
      "source": [
        "import tensorflow as tf\n",
        "from tensorflow.keras.models import Sequential\n",
        "from tensorflow.keras.layers import Conv1D, MaxPooling1D, Flatten, Dense, BatchNormalization, Dropout\n",
        "\n",
        "model = Sequential()\n",
        "model.add(Conv1D(32, 3, activation='relu', input_shape=(80, 1)))\n",
        "model.add(BatchNormalization())\n",
        "model.add(Conv1D(32, 3, activation='relu'))\n",
        "model.add(BatchNormalization())\n",
        "model.add(MaxPooling1D(2))\n",
        "model.add(Conv1D(64, 3, activation='relu'))\n",
        "model.add(BatchNormalization())\n",
        "model.add(MaxPooling1D(2))\n",
        "model.add(Flatten())\n",
        "model.add(Dense(64, activation='relu'))\n",
        "model.add(BatchNormalization())\n",
        "model.add(Dense(1, activation='sigmoid'))\n",
        "\n",
        "model.compile(optimizer='adam', loss='binary_crossentropy', metrics=['accuracy'])\n",
        "\n",
        "model.summary()"
      ],
      "metadata": {
        "colab": {
          "base_uri": "https://localhost:8080/"
        },
        "id": "1A909SSS2JIp",
        "outputId": "b3212b41-74b9-45f4-c3a6-1e2d581db49c"
      },
      "execution_count": 11,
      "outputs": [
        {
          "output_type": "stream",
          "name": "stdout",
          "text": [
            "Model: \"sequential\"\n",
            "_________________________________________________________________\n",
            " Layer (type)                Output Shape              Param #   \n",
            "=================================================================\n",
            " conv1d (Conv1D)             (None, 78, 32)            128       \n",
            "                                                                 \n",
            " batch_normalization (Batch  (None, 78, 32)            128       \n",
            " Normalization)                                                  \n",
            "                                                                 \n",
            " conv1d_1 (Conv1D)           (None, 76, 32)            3104      \n",
            "                                                                 \n",
            " batch_normalization_1 (Bat  (None, 76, 32)            128       \n",
            " chNormalization)                                                \n",
            "                                                                 \n",
            " max_pooling1d (MaxPooling1  (None, 38, 32)            0         \n",
            " D)                                                              \n",
            "                                                                 \n",
            " conv1d_2 (Conv1D)           (None, 36, 64)            6208      \n",
            "                                                                 \n",
            " batch_normalization_2 (Bat  (None, 36, 64)            256       \n",
            " chNormalization)                                                \n",
            "                                                                 \n",
            " max_pooling1d_1 (MaxPoolin  (None, 18, 64)            0         \n",
            " g1D)                                                            \n",
            "                                                                 \n",
            " flatten (Flatten)           (None, 1152)              0         \n",
            "                                                                 \n",
            " dense (Dense)               (None, 64)                73792     \n",
            "                                                                 \n",
            " batch_normalization_3 (Bat  (None, 64)                256       \n",
            " chNormalization)                                                \n",
            "                                                                 \n",
            " dense_1 (Dense)             (None, 1)                 65        \n",
            "                                                                 \n",
            "=================================================================\n",
            "Total params: 84065 (328.38 KB)\n",
            "Trainable params: 83681 (326.88 KB)\n",
            "Non-trainable params: 384 (1.50 KB)\n",
            "_________________________________________________________________\n"
          ]
        }
      ]
    },
    {
      "cell_type": "code",
      "source": [
        "history = model.fit(X_train, y_train, epochs=10, batch_size=32, validation_split = 0.1)"
      ],
      "metadata": {
        "colab": {
          "base_uri": "https://localhost:8080/"
        },
        "id": "WjGzOec22V-q",
        "outputId": "bd066812-8142-40ae-a9e8-c70eca9a3710"
      },
      "execution_count": 12,
      "outputs": [
        {
          "output_type": "stream",
          "name": "stdout",
          "text": [
            "Epoch 1/10\n",
            "6674/6674 [==============================] - 143s 21ms/step - loss: 0.4486 - accuracy: 0.7883 - val_loss: 0.4102 - val_accuracy: 0.8098\n",
            "Epoch 2/10\n",
            "6674/6674 [==============================] - 128s 19ms/step - loss: 0.3894 - accuracy: 0.8214 - val_loss: 0.4610 - val_accuracy: 0.7882\n",
            "Epoch 3/10\n",
            "6674/6674 [==============================] - 127s 19ms/step - loss: 0.3648 - accuracy: 0.8349 - val_loss: 0.3874 - val_accuracy: 0.8242\n",
            "Epoch 4/10\n",
            "6674/6674 [==============================] - 127s 19ms/step - loss: 0.3502 - accuracy: 0.8433 - val_loss: 0.3480 - val_accuracy: 0.8396\n",
            "Epoch 5/10\n",
            "6674/6674 [==============================] - 128s 19ms/step - loss: 0.3376 - accuracy: 0.8490 - val_loss: 0.3268 - val_accuracy: 0.8525\n",
            "Epoch 6/10\n",
            "6674/6674 [==============================] - 127s 19ms/step - loss: 0.3264 - accuracy: 0.8554 - val_loss: 0.3604 - val_accuracy: 0.8346\n",
            "Epoch 7/10\n",
            "6674/6674 [==============================] - 133s 20ms/step - loss: 0.3192 - accuracy: 0.8594 - val_loss: 0.3941 - val_accuracy: 0.8219\n",
            "Epoch 8/10\n",
            "6674/6674 [==============================] - 127s 19ms/step - loss: 0.3120 - accuracy: 0.8620 - val_loss: 0.3043 - val_accuracy: 0.8667\n",
            "Epoch 9/10\n",
            "6674/6674 [==============================] - 121s 18ms/step - loss: 0.3062 - accuracy: 0.8651 - val_loss: 0.4258 - val_accuracy: 0.7963\n",
            "Epoch 10/10\n",
            "6674/6674 [==============================] - 126s 19ms/step - loss: 0.3012 - accuracy: 0.8683 - val_loss: 0.4041 - val_accuracy: 0.8181\n"
          ]
        }
      ]
    },
    {
      "cell_type": "code",
      "source": [
        "plt.plot(history.history['loss'], label='Training loss')\n",
        "plt.plot(history.history['val_loss'], label='Validation loss')\n",
        "plt.legend()"
      ],
      "metadata": {
        "colab": {
          "base_uri": "https://localhost:8080/",
          "height": 447
        },
        "id": "orn-IsZW_Dta",
        "outputId": "f31998f7-7997-4466-c3b2-2eddfd23d6c1"
      },
      "execution_count": null,
      "outputs": [
        {
          "output_type": "execute_result",
          "data": {
            "text/plain": [
              "<matplotlib.legend.Legend at 0x796318e56740>"
            ]
          },
          "metadata": {},
          "execution_count": 48
        },
        {
          "output_type": "display_data",
          "data": {
            "text/plain": [
              "<Figure size 640x480 with 1 Axes>"
            ],
            "image/png": "[encoded data removed]"
          },
          "metadata": {}
        }
      ]
    },
    {
      "cell_type": "code",
      "source": [
        "X_test = np.array(X_test)\n",
        "print(X_test.shape)\n",
        "y_pred = model.predict(X_test)"
      ],
      "metadata": {
        "colab": {
          "base_uri": "https://localhost:8080/"
        },
        "id": "fq03NXM_aLFi",
        "outputId": "02eabbba-76c0-4bfe-a0e2-77ec0b5f8108"
      },
      "execution_count": null,
      "outputs": [
        {
          "output_type": "stream",
          "name": "stdout",
          "text": [
            "(55005, 80)\n",
            "1719/1719 [==============================] - 4s 2ms/step\n"
          ]
        }
      ]
    },
    {
      "cell_type": "code",
      "source": [
        "y_pred_binary = (y_pred > 0.5).astype(int).flatten()\n",
        "y_test = y_test.astype(int)\n",
        "print(y_test)\n",
        "print(y_pred_binary)"
      ],
      "metadata": {
        "colab": {
          "base_uri": "https://localhost:8080/"
        },
        "id": "TE-AVTTkab-y",
        "outputId": "0e3afd68-d6f0-4a7f-9c31-492530c5bcfd"
      },
      "execution_count": null,
      "outputs": [
        {
          "output_type": "stream",
          "name": "stdout",
          "text": [
            "[0 0 0 ... 0 0 0]\n",
            "[1 1 1 ... 1 1 0]\n"
          ]
        }
      ]
    },
    {
      "cell_type": "code",
      "source": [
        "from sklearn.metrics import classification_report\n",
        "print(classification_report(y_test, y_pred_binary))"
      ],
      "metadata": {
        "colab": {
          "base_uri": "https://localhost:8080/"
        },
        "id": "7Rh3OGaWCfgE",
        "outputId": "217927d4-7fdd-4b54-d9cb-34d5faddf3b9"
      },
      "execution_count": null,
      "outputs": [
        {
          "output_type": "stream",
          "name": "stdout",
          "text": [
            "              precision    recall  f1-score   support\n",
            "\n",
            "           0       1.00      0.18      0.31     95843\n",
            "           1       0.03      0.97      0.06      2760\n",
            "\n",
            "    accuracy                           0.21     98603\n",
            "   macro avg       0.51      0.58      0.19     98603\n",
            "weighted avg       0.97      0.21      0.30     98603\n",
            "\n"
          ]
        }
      ]
    },
    {
      "cell_type": "code",
      "source": [
        "from sklearn.metrics import confusion_matrix, accuracy_score, precision_score, recall_score, f1_score\n",
        "from sklearn.metrics import roc_curve, roc_auc_score\n",
        "\n",
        "cm = confusion_matrix(y_test, y_pred_binary)\n",
        "print(\"Confusion Matrix:\")\n",
        "print(cm)\n",
        "\n",
        "# Вычисление других метрик\n",
        "accuracy = accuracy_score(y_test, y_pred_binary)\n",
        "precision = precision_score(y_test, y_pred_binary)\n",
        "recall = recall_score(y_test, y_pred_binary)\n",
        "f1 = f1_score(y_test, y_pred_binary)\n",
        "\n",
        "print(\"Accuracy:\", accuracy)\n",
        "print(\"Precision:\", precision)\n",
        "print(\"Recall:\", recall)\n",
        "print(\"F1 Score:\", f1)\n",
        "\n",
        "# Расчет ROC-кривой\n",
        "fpr, tpr, thresholds = roc_curve(y_test, y_pred_binary)\n",
        "\n",
        "# Расчет AUC (площади под ROC-кривой)\n",
        "roc_auc = roc_auc_score(y_test, y_pred_binary)\n",
        "\n",
        "# Построение графика ROC-кривой\n",
        "plt.figure()\n",
        "plt.plot(fpr, tpr, color='b', lw=2, label=f'ROC curve (area = {roc_auc:.2f})')\n",
        "plt.plot([0, 1], [0, 1], color='gray', lw=2, linestyle='--')  # Диагональная линия случайности\n",
        "plt.xlabel('False Positive Rate')\n",
        "plt.ylabel('True Positive Rate')\n",
        "plt.title('ROC Curve')\n",
        "plt.legend(loc=\"lower right\")\n",
        "plt.show()"
      ],
      "metadata": {
        "colab": {
          "base_uri": "https://localhost:8080/",
          "height": 594
        },
        "id": "JP_R9g0faXQD",
        "outputId": "f5c5abea-c8ea-4f1c-96a3-cffc5c43e557"
      },
      "execution_count": null,
      "outputs": [
        {
          "output_type": "stream",
          "name": "stdout",
          "text": [
            "Confusion Matrix:\n",
            "[[20019  9553]\n",
            " [ 1905 23528]]\n",
            "Accuracy: 0.791691664394146\n",
            "Precision: 0.7112239654182159\n",
            "Recall: 0.9250973145126411\n",
            "F1 Score: 0.8041836141778036\n"
          ]
        },
        {
          "output_type": "display_data",
          "data": {
            "text/plain": [
              "<Figure size 640x480 with 1 Axes>"
            ],
            "image/png": "[encoded data removed]"
          },
          "metadata": {}
        }
      ]
    },
    {
      "cell_type": "code",
      "source": [
        "y_test = '/content/drive/MyDrive/ecg_full_answers/s20491.csv'\n",
        "df_ans = pd.read_csv(y_test).values.flatten()\n",
        "X_test = pd.read_csv('full_s20491.csv').values"
      ],
      "metadata": {
        "id": "0YiatmXbZZph"
      },
      "execution_count": 13,
      "outputs": []
    },
    {
      "cell_type": "code",
      "source": [
        "def min_max_scaler(data):\n",
        "    min_val = np.min(data)\n",
        "    max_val = np.max(data)\n",
        "    scaled_data = (data - min_val) / (max_val - min_val)\n",
        "    return scaled_data\n",
        "\n",
        "X = []\n",
        "for x in X_test:\n",
        "  X.append(min_max_scaler(x)[:80])"
      ],
      "metadata": {
        "id": "po51kxLZDcmT"
      },
      "execution_count": 14,
      "outputs": []
    },
    {
      "cell_type": "code",
      "source": [
        "y_pred = model.predict(X)"
      ],
      "metadata": {
        "colab": {
          "base_uri": "https://localhost:8080/"
        },
        "id": "Ef95YCrAbhzO",
        "outputId": "17d55913-4894-42dc-9581-895f27ac5a8f"
      },
      "execution_count": 16,
      "outputs": [
        {
          "output_type": "stream",
          "name": "stdout",
          "text": [
            "3008/3008 [==============================] - 17s 6ms/step\n"
          ]
        }
      ]
    },
    {
      "cell_type": "code",
      "source": [
        "from sklearn.metrics import classification_report\n",
        "y_pred_binary = (y_pred > 0.5).astype(int).flatten()\n",
        "y_test = df_ans.astype(int)\n",
        "print(y_test)\n",
        "print(y_pred_binary)\n",
        "print(classification_report(y_test, y_pred_binary))"
      ],
      "metadata": {
        "colab": {
          "base_uri": "https://localhost:8080/"
        },
        "id": "EoR30W0JDp7A",
        "outputId": "c41d1e50-4aa2-47c8-e0fc-30f67bfa38e7"
      },
      "execution_count": 17,
      "outputs": [
        {
          "output_type": "stream",
          "name": "stdout",
          "text": [
            "[0 0 0 ... 0 0 0]\n",
            "[0 0 0 ... 0 0 0]\n",
            "              precision    recall  f1-score   support\n",
            "\n",
            "           0       0.96      0.93      0.94     90099\n",
            "           1       0.29      0.44      0.35      6142\n",
            "\n",
            "    accuracy                           0.89     96241\n",
            "   macro avg       0.62      0.68      0.64     96241\n",
            "weighted avg       0.92      0.89      0.90     96241\n",
            "\n"
          ]
        }
      ]
    },
    {
      "cell_type": "code",
      "source": [
        "from sklearn.metrics import confusion_matrix, accuracy_score, precision_score, recall_score, f1_score\n",
        "\n",
        "from sklearn.metrics import balanced_accuracy_score, accuracy_score, precision_score, recall_score, f1_score\n",
        "import numpy as np\n",
        "\n",
        "# Получение прогнозов на тестовых данных\n",
        "#y_pred = model.predict(X_test)\n",
        "y_pred_binary = (y_pred > 0.5).astype(int)  # Преобразование вероятностей в бинарные значения\n",
        "y_test = df_ans.astype(int)\n",
        "\n",
        "balanced_accuracy = balanced_accuracy_score(y_test, y_pred_binary)  # Balanced Accuracy\n",
        "print(\"Balanced Accuracy:\", balanced_accuracy)\n",
        "\n",
        "# Вычисление матрицы ошибок\n",
        "cm = confusion_matrix(y_test, y_pred_binary)\n",
        "print(\"Confusion Matrix:\")\n",
        "print(cm)\n",
        "\n",
        "# Вычисление других метрик\n",
        "accuracy = accuracy_score(y_test, y_pred_binary)\n",
        "precision = precision_score(y_test, y_pred_binary)\n",
        "recall = recall_score(y_test, y_pred_binary)\n",
        "f1 = f1_score(y_test, y_pred_binary)\n",
        "\n",
        "print(\"Accuracy:\", accuracy)\n",
        "print(\"Precision:\", precision)\n",
        "print(\"Recall:\", recall)\n",
        "print(\"F1 Score:\", f1)\n"
      ],
      "metadata": {
        "colab": {
          "base_uri": "https://localhost:8080/"
        },
        "id": "Vp3t26Tbbjx-",
        "outputId": "69c96544-291a-4391-ddf2-22119d47b7a3"
      },
      "execution_count": 69,
      "outputs": [
        {
          "output_type": "stream",
          "name": "stdout",
          "text": [
            "Balanced Accuracy: 0.6816213804165612\n",
            "Confusion Matrix:\n",
            "[[83425  6674]\n",
            " [ 3456  2686]]\n",
            "Accuracy: 0.8947434045780904\n",
            "Precision: 0.28696581196581195\n",
            "Recall: 0.43731683490719636\n",
            "F1 Score: 0.34653593084763257\n"
          ]
        }
      ]
    },
    {
      "cell_type": "code",
      "source": [
        "smoothed_series = []\n",
        "window_size = 3\n",
        "series = y_pred_binary.flatten()\n",
        "for i in range(0, len(series)):\n",
        "    window = series[i:i+window_size]\n",
        "    if np.count_nonzero(window == 1) >= 3:\n",
        "      smoothed_series.append(1)\n",
        "    else:\n",
        "      smoothed_series.append(0)\n"
      ],
      "metadata": {
        "id": "stVqRQUZ49_O"
      },
      "execution_count": 75,
      "outputs": []
    },
    {
      "cell_type": "code",
      "source": [
        "smoothed_series_test = []\n",
        "window_size = 3\n",
        "series = np.array(y_test)\n",
        "for i in range(0, len(series)):\n",
        "    window = series[i:i+window_size]\n",
        "    if np.count_nonzero(window == 1) > 0:\n",
        "      smoothed_series_test.append(1/2)\n",
        "    else:\n",
        "      smoothed_series_test.append(0)\n"
      ],
      "metadata": {
        "id": "poYWitH053FM"
      },
      "execution_count": 77,
      "outputs": []
    },
    {
      "cell_type": "code",
      "source": [
        "plt.figure(figsize=(20,6))\n",
        "plt.plot(smoothed_series)\n",
        "plt.plot(smoothed_series_test, color='red')\n",
        "plt.show()"
      ],
      "metadata": {
        "colab": {
          "base_uri": "https://localhost:8080/",
          "height": 522
        },
        "id": "H8FbGQth4nXF",
        "outputId": "2af319fc-a8ff-4290-ae40-10eb484dcab3"
      },
      "execution_count": 80,
      "outputs": [
        {
          "output_type": "display_data",
          "data": {
            "text/plain": [
              "<Figure size 2000x600 with 1 Axes>"
            ],
            "image/png": "[encoded data removed]"
          },
          "metadata": {}
        }
      ]
    }
  ]
}